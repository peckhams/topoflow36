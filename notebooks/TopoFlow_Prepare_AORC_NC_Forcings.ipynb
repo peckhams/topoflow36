{
 "cells": [
  {
   "cell_type": "code",
   "execution_count": 1,
   "id": "518e3724-0105-4991-b5b0-bc860e8d61c1",
   "metadata": {},
   "outputs": [
    {
     "name": "stdout",
     "output_type": "stream",
     "text": [
      "Importing TopoFlow 3.6 package modules:\n",
      "   topoflow.utils\n",
      "   topoflow.utils.tests\n",
      "   topoflow.components\n",
      "   topoflow.components.tests\n",
      "   topoflow.framework\n",
      "   topoflow.framework.tests\n",
      " \n",
      "Importing TopoFlow 3.6 packages:\n",
      "   topoflow.utils\n",
      "   topoflow.utils.tests\n",
      "   topoflow.components\n",
      "   topoflow.components.tests\n",
      "   topoflow.framework\n",
      "   topoflow.framework.tests\n",
      " \n",
      "\n",
      "Evaluating variable:  Psurf_f_inst\n",
      "Comparing bounds...\n",
      "Regridding to DEM grid...\n",
      "Converting units: Pa to mbar...\n",
      "\n",
      "Evaluating variable:  Qair_f_inst\n",
      "Comparing bounds...\n",
      "Regridding to DEM grid...\n",
      "\n",
      "Evaluating variable:  Rainf_tavg\n",
      "Comparing bounds...\n",
      "Regridding to DEM grid...\n",
      "Converting units: [kg m-2 s-1] to [mmph]...\n",
      "\n",
      "Evaluating variable:  Tair_f_inst\n",
      "Comparing bounds...\n",
      "Regridding to DEM grid...\n",
      "Converting units: Kelvin to Celsius...\n",
      "\n",
      "Evaluating variable:  Wind_f_inst\n",
      "Comparing bounds...\n",
      "Regridding to DEM grid...\n",
      "\n",
      "Creating nc file for variable:  P\n",
      "Creating nc file for variable:  T_air\n",
      "Creating nc file for variable:  p0\n",
      "Creating nc file for variable:  uz\n",
      "Creating nc file for variable:  rh\n"
     ]
    }
   ],
   "source": [
    "import os\n",
    "from topoflow.utils import rti_files\n",
    "from topoflow.utils import ncgs_files\n",
    "from topoflow.utils import regrid\n",
    "from topoflow.utils import time_utils\n",
    "\n",
    "# input AORC file\n",
    "input_file = '/Users/greyevenson/Projects/Bolotin/basins/WolverineGlacier/__met/TopoFlow_AORC_Alaska_Forcings.nc'\n",
    "\n",
    "# DEM grid info\n",
    "grid_info = rti_files.read_info( '/Users/greyevenson/Projects/Bolotin/basins/WolverineGlacier/__topo/WolverineGlacier.rti', SILENT=True )\n",
    "\n",
    "# create time class\n",
    "start_date_str = '2016-10-01'\n",
    "start_time_str = '00:00:00'\n",
    "end_date_str   = '2017-09-30'\n",
    "end_time_str   = '00:00:00'\n",
    "duration_units = 'minutes'\n",
    "                                                      \n",
    "class time_info_class:\n",
    "    pass\n",
    "time_info = time_info_class()\n",
    "time_info.start_date     = start_date_str\n",
    "time_info.start_time     = start_time_str\n",
    "time_info.end_date       = end_date_str\n",
    "time_info.end_time       = end_time_str\n",
    "time_info.duration_units = duration_units\n",
    "time_info.start_datetime = start_date_str+' '+start_time_str\n",
    "time_info.end_datetime   = end_date_str+' '+end_time_str\n",
    "time_info.dt             = 60 #min\n",
    "\n",
    "# create topoflow forcing files\n",
    "regrid.create_aorc_ncgs_forcings_files(nc_file_in=input_file, grid_info=grid_info, time_info=time_info,SILENT=False )"
   ]
  }
 ],
 "metadata": {
  "kernelspec": {
   "display_name": "Python 3 (ipykernel)",
   "language": "python",
   "name": "python3"
  },
  "language_info": {
   "codemirror_mode": {
    "name": "ipython",
    "version": 3
   },
   "file_extension": ".py",
   "mimetype": "text/x-python",
   "name": "python",
   "nbconvert_exporter": "python",
   "pygments_lexer": "ipython3",
   "version": "3.9.19"
  }
 },
 "nbformat": 4,
 "nbformat_minor": 5
}
